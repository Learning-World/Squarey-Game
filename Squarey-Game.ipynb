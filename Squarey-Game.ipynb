{
 "cells": [
  {
   "cell_type": "code",
   "execution_count": 10,
   "metadata": {},
   "outputs": [],
   "source": [
    "from pygame.locals import *\n",
    "import pygame, sys\n",
    "pygame.init()\n",
    "win = pygame.display.set_mode((1280, 720))\n",
    "pygame.display.set_caption(\"Squarey\")\n",
    "x = 100\n",
    "y = 100\n",
    "baddyX = 300\n",
    "baddyY = 300\n",
    "vel = 6\n",
    "baddyVel = 4\n",
    "run = True\n",
    "def draw_game(): \n",
    "    win.fill((0, 0, 0))\n",
    "    pygame.draw.rect(win, (0, 0, 255), (x, y, 20, 20))\n",
    "    pygame.draw.rect(win, (255, 0, 0), (baddyX, baddyY, 40, 40))\n",
    "    pygame.display.update()\n",
    "\n",
    "while run:\n",
    "    \n",
    "    \n",
    "    pygame.time.delay(20)\n",
    "\n",
    "    if baddyX < x - 10:\n",
    "        baddyX = baddyX + baddyVel\n",
    "        draw_game()\n",
    "    elif baddyX > x + 10:\n",
    "        draw_game()\n",
    "        baddyX = baddyX - baddyVel\n",
    "    elif baddyY < y - 10:\n",
    "        baddyY = baddyY + baddyVel\n",
    "    elif baddyY > y + 10:\n",
    "        baddyY = baddyY - baddyVel\n",
    "    else:\n",
    "        run = False\n",
    "\n",
    "    for event in pygame.event.get():\n",
    "          if event.type == pygame.QUIT:\n",
    "                run = False\n",
    "\n",
    "    keys = pygame.key.get_pressed()\n",
    "\n",
    "    if keys[pygame.K_LEFT]:\n",
    "          x -= vel\n",
    "\n",
    "    if keys[pygame.K_RIGHT]:\n",
    "          x += vel\n",
    "\n",
    "    if keys[pygame.K_UP]:\n",
    "          y -= vel\n",
    "\n",
    "    if keys[pygame.K_DOWN]:\n",
    "          y += vel\n",
    "\n",
    "    draw_game()\n",
    "          \n",
    "pygame.quit()   \n"
   ]
  },
  {
   "cell_type": "code",
   "execution_count": null,
   "metadata": {},
   "outputs": [],
   "source": []
  }
 ],
 "metadata": {
  "kernelspec": {
   "display_name": "Python 3",
   "language": "python",
   "name": "python3"
  },
  "language_info": {
   "codemirror_mode": {
    "name": "ipython",
    "version": 3
   },
   "file_extension": ".py",
   "mimetype": "text/x-python",
   "name": "python",
   "nbconvert_exporter": "python",
   "pygments_lexer": "ipython3",
   "version": "3.7.8"
  }
 },
 "nbformat": 4,
 "nbformat_minor": 4
}
